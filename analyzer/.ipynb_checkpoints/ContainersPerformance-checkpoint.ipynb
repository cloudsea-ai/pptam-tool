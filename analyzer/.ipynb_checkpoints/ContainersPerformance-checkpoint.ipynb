{
  "cells": [
    {
      "metadata": {
        "collapsed": true
      },
      "cell_type": "raw",
      "source": "# Assessment of Microservice Architecture Deployment Alternatives by Automated Performance Testing"
    },
    {
      "metadata": {},
      "cell_type": "raw",
      "source": "Read Data from Fanban: configuration, mean vector, SD vector,  mix"
    },
    {
      "metadata": {
        "trusted": true
      },
      "cell_type": "code",
      "source": "dataFile<-read.csv(\"untitled.csv\", header= TRUE,sep=\",\")",
      "execution_count": 1,
      "outputs": []
    },
    {
      "metadata": {},
      "cell_type": "markdown",
      "source": "Read operational profile  data (e.g., from NetFlix). Change / remove scale factor if needed"
    },
    {
      "metadata": {
        "trusted": true
      },
      "cell_type": "code",
      "source": "inputFile<-read.csv(\"OperationalProfileData.csv\", header= TRUE,sep=\",\")\nusersLoad<-inputFile[,1]\naccessCount<-inputFile[,2]\nscaleFactor<-2.5\nusersLoadScaled<-floor(scaleFactor*usersLoad)\naccessFrequency<-accessCount/sum(accessCount)\n#print(inputFile)",
      "execution_count": 2,
      "outputs": []
    },
    {
      "metadata": {},
      "cell_type": "raw",
      "source": "Sum up frequency every 50 users"
    },
    {
      "metadata": {
        "trusted": true
      },
      "cell_type": "code",
      "source": "byFifty<-which(usersLoadScaled %% 50 == 0)\nbinProb<-c()\nfor(i in 1:length(byFifty)){\n\tif(i==1){\n\t\tbinProb[i]<-sum(accessFrequency[1:byFifty[i]])\n\t}else{\n\t\tbinProb[i]<-sum(accessFrequency[(byFifty[i-1]+1):byFifty[i]])\n\t}\n}",
      "execution_count": 3,
      "outputs": []
    },
    {
      "metadata": {},
      "cell_type": "markdown",
      "source": "Extract settings of resources: ID, Users, Memory, CPU, Carts Replicas"
    },
    {
      "metadata": {
        "trusted": true
      },
      "cell_type": "code",
      "source": "mySettings<-as.data.frame(matrix(nrow=nrow(dataFile)%/% 3, ncol=5))\nfor(i in 0:((nrow(dataFile)%/% 3)-1)){\n    mySettings[i+1,1:5]<-dataFile[1+3*i,1:5]\n}\ncolnames(mySettings)<-colnames(dataFile[,1:5])\nnoMicroServices<-ncol(dataFile)-6\nprint(mySettings)",
      "execution_count": 4,
      "outputs": [
        {
          "output_type": "stream",
          "text": "   ID Users Memory  CPU Carts.Replicas\n1   1     2      4 1.00              1\n2   2    50      2 0.25              1\n3   3   100      2 0.25              1\n4   4   150      2 0.25              1\n5   5   200      2 0.25              1\n6   6   250      2 0.25              1\n7   7   300      2 0.25              1\n8   8   200      2 0.50              1\n9   9   250      2 0.50              1\n10 10   300      2 0.50              1\n11 11   200      2 0.50              2\n12 12   250      2 0.50              2\n13 13   300      2 0.50              2\n14 14   300      2 0.50              4\n15 15   200      3 0.25              1\n16 16   250      3 0.25              1\n17 17   300      3 0.25              1\n18 18   200      3 0.25              2\n19 19   250      3 0.25              2\n20 20   300      3 0.25              2\n21 21   300      3 0.25              4\n22 22   200      3 0.50              1\n23 23   250      3 0.50              1\n24 24   300      3 0.50              1\n25 25   200      3 0.50              2\n26 26   250      3 0.50              2\n27 27   300      3 0.50              2\n28 28   300      3 0.50              4\n29 29    50      3 0.25              1\n30 30    50      3 0.50              1\n31 31    50      2 0.50              1\n32 32    50      3 0.25              1\n33 33    50      3 0.50              1\n34 34    50      2 0.50              2\n35 35    50      3 0.25              2\n36 36    50      3 0.50              2\n37 37    50      2 0.50              4\n38 38    50      3 0.25              4\n39 39    50      3 0.50              4\n40 40   100      2 0.50              1\n41 41   100      3 0.25              1\n42 42   100      3 0.50              1\n43 43   100      2 0.50              2\n44 44   100      3 0.25              2\n45 45   100      3 0.50              2\n46 46   100      2 0.50              4\n47 47   100      3 0.25              4\n48 48   100      3 0.50              4\n49 49   150      2 0.50              1\n50 50   150      3 0.25              1\n51 51   150      3 0.50              1\n52 52   150      2 0.50              2\n53 53   150      3 0.25              2\n54 54   150      3 0.50              2\n55 55   150      2 0.50              4\n56 56   150      3 0.25              4\n57 57   150      3 0.50              4\n58 58   200      2 0.50              4\n59 59   200      3 0.25              4\n60 60   200      3 0.50              4\n61 61   250      2 0.50              4\n62 62   250      3 0.25              4\n63 63   250      3 0.50              4\n",
          "name": "stdout"
        }
      ]
    },
    {
      "metadata": {},
      "cell_type": "markdown",
      "source": "Process time data in seconds for benchmark workload situation:number of users =2; "
    },
    {
      "metadata": {
        "trusted": true
      },
      "cell_type": "code",
      "source": "avgVectorB<-data.frame(c(mySettings[1,],dataFile[1,7:(6+noMicroServices)]))\navgVectorB\nSDVectorB<-data.frame(c(mySettings[1,],dataFile[2,7:(6+noMicroServices)]))\nSDVectorB\nthreshold<-data.frame(c(mySettings[1,],avgVectorB[1,6:(5+noMicroServices)]+3*SDVectorB[1,6:(5+noMicroServices)]))\nthreshold\nmixB<-data.frame(c(mySettings[1,],dataFile[3,7:(6+noMicroServices)]))\n",
      "execution_count": 5,
      "outputs": [
        {
          "output_type": "display_data",
          "data": {
            "text/plain": "  ID Users Memory CPU Carts.Replicas X.1   basket getCatalogue getItem getCart\n1 1  2     4      1   1              0.011 0.002  0.005        0.006   0.011  \n  ... viewOrdersPage cataloguePage getRelated addToCart catalogueSize\n1 ... 0.002          0.004         0.007      0.006     0.006        \n  getAddress getCard showDetails Metric X80..CPU.Percentile\n1 0.006      0.007   0.002       NA                        ",
            "text/latex": "\\begin{tabular}{r|llllllllllllllllllllllllll}\n ID & Users & Memory & CPU & Carts.Replicas & X.1 & basket & getCatalogue & getItem & getCart & ... & viewOrdersPage & cataloguePage & getRelated & addToCart & catalogueSize & getAddress & getCard & showDetails & Metric & X80..CPU.Percentile\\\\\n\\hline\n\t 1     & 2     & 4     & 1     & 1     & 0.011 & 0.002 & 0.005 & 0.006 & 0.011 & ...   & 0.002 & 0.004 & 0.007 & 0.006 & 0.006 & 0.006 & 0.007 & 0.002 & NA    &      \\\\\n\\end{tabular}\n",
            "text/markdown": "\nID | Users | Memory | CPU | Carts.Replicas | X.1 | basket | getCatalogue | getItem | getCart | ... | viewOrdersPage | cataloguePage | getRelated | addToCart | catalogueSize | getAddress | getCard | showDetails | Metric | X80..CPU.Percentile | \n|---|\n| 1     | 2     | 4     | 1     | 1     | 0.011 | 0.002 | 0.005 | 0.006 | 0.011 | ...   | 0.002 | 0.004 | 0.007 | 0.006 | 0.006 | 0.006 | 0.007 | 0.002 | NA    |       | \n\n\n",
            "text/html": "<table>\n<thead><tr><th scope=col>ID</th><th scope=col>Users</th><th scope=col>Memory</th><th scope=col>CPU</th><th scope=col>Carts.Replicas</th><th scope=col>X.1</th><th scope=col>basket</th><th scope=col>getCatalogue</th><th scope=col>getItem</th><th scope=col>getCart</th><th scope=col>...</th><th scope=col>viewOrdersPage</th><th scope=col>cataloguePage</th><th scope=col>getRelated</th><th scope=col>addToCart</th><th scope=col>catalogueSize</th><th scope=col>getAddress</th><th scope=col>getCard</th><th scope=col>showDetails</th><th scope=col>Metric</th><th scope=col>X80..CPU.Percentile</th></tr></thead>\n<tbody>\n\t<tr><td>1    </td><td>2    </td><td>4    </td><td>1    </td><td>1    </td><td>0.011</td><td>0.002</td><td>0.005</td><td>0.006</td><td>0.011</td><td>...  </td><td>0.002</td><td>0.004</td><td>0.007</td><td>0.006</td><td>0.006</td><td>0.006</td><td>0.007</td><td>0.002</td><td>NA   </td><td>     </td></tr>\n</tbody>\n</table>\n"
          },
          "metadata": {}
        },
        {
          "output_type": "display_data",
          "data": {
            "text/plain": "  ID Users Memory CPU Carts.Replicas X.1   basket getCatalogue getItem getCart\n1 1  2     4      1   1              0.008 0.001  0.001        0.007   0.018  \n  ... viewOrdersPage cataloguePage getRelated addToCart catalogueSize\n1 ... 0.001          0.001         0.009      0.012     0.007        \n  getAddress getCard showDetails Metric X80..CPU.Percentile\n1 0.007      0.01    0.001       NA                        ",
            "text/latex": "\\begin{tabular}{r|llllllllllllllllllllllllll}\n ID & Users & Memory & CPU & Carts.Replicas & X.1 & basket & getCatalogue & getItem & getCart & ... & viewOrdersPage & cataloguePage & getRelated & addToCart & catalogueSize & getAddress & getCard & showDetails & Metric & X80..CPU.Percentile\\\\\n\\hline\n\t 1     & 2     & 4     & 1     & 1     & 0.008 & 0.001 & 0.001 & 0.007 & 0.018 & ...   & 0.001 & 0.001 & 0.009 & 0.012 & 0.007 & 0.007 & 0.01  & 0.001 & NA    &      \\\\\n\\end{tabular}\n",
            "text/markdown": "\nID | Users | Memory | CPU | Carts.Replicas | X.1 | basket | getCatalogue | getItem | getCart | ... | viewOrdersPage | cataloguePage | getRelated | addToCart | catalogueSize | getAddress | getCard | showDetails | Metric | X80..CPU.Percentile | \n|---|\n| 1     | 2     | 4     | 1     | 1     | 0.008 | 0.001 | 0.001 | 0.007 | 0.018 | ...   | 0.001 | 0.001 | 0.009 | 0.012 | 0.007 | 0.007 | 0.01  | 0.001 | NA    |       | \n\n\n",
            "text/html": "<table>\n<thead><tr><th scope=col>ID</th><th scope=col>Users</th><th scope=col>Memory</th><th scope=col>CPU</th><th scope=col>Carts.Replicas</th><th scope=col>X.1</th><th scope=col>basket</th><th scope=col>getCatalogue</th><th scope=col>getItem</th><th scope=col>getCart</th><th scope=col>...</th><th scope=col>viewOrdersPage</th><th scope=col>cataloguePage</th><th scope=col>getRelated</th><th scope=col>addToCart</th><th scope=col>catalogueSize</th><th scope=col>getAddress</th><th scope=col>getCard</th><th scope=col>showDetails</th><th scope=col>Metric</th><th scope=col>X80..CPU.Percentile</th></tr></thead>\n<tbody>\n\t<tr><td>1    </td><td>2    </td><td>4    </td><td>1    </td><td>1    </td><td>0.008</td><td>0.001</td><td>0.001</td><td>0.007</td><td>0.018</td><td>...  </td><td>0.001</td><td>0.001</td><td>0.009</td><td>0.012</td><td>0.007</td><td>0.007</td><td>0.01 </td><td>0.001</td><td>NA   </td><td>     </td></tr>\n</tbody>\n</table>\n"
          },
          "metadata": {}
        },
        {
          "output_type": "stream",
          "text": "Warning message in Ops.factor(left, right):\n“‘*’ not meaningful for factors”Warning message in Ops.factor(left, right):\n“‘*’ not meaningful for factors”Warning message in Ops.factor(left, right):\n“‘*’ not meaningful for factors”Warning message in Ops.factor(left, right):\n“‘*’ not meaningful for factors”Warning message in Ops.factor(left, right):\n“‘*’ not meaningful for factors”Warning message in Ops.factor(left, right):\n“‘*’ not meaningful for factors”Warning message in Ops.factor(left, right):\n“‘*’ not meaningful for factors”Warning message in Ops.factor(left, right):\n“‘*’ not meaningful for factors”Warning message in Ops.factor(left, right):\n“‘*’ not meaningful for factors”Warning message in Ops.factor(left, right):\n“‘*’ not meaningful for factors”Warning message in Ops.factor(left, right):\n“‘*’ not meaningful for factors”Warning message in Ops.factor(left, right):\n“‘*’ not meaningful for factors”Warning message in Ops.factor(left, right):\n“‘*’ not meaningful for factors”Warning message in Ops.factor(left, right):\n“‘*’ not meaningful for factors”Warning message in Ops.factor(left, right):\n“‘*’ not meaningful for factors”Warning message in Ops.factor(left, right):\n“‘*’ not meaningful for factors”Warning message in Ops.factor(left, right):\n“‘*’ not meaningful for factors”Warning message in Ops.factor(left, right):\n“‘*’ not meaningful for factors”Warning message in Ops.factor(left, right):\n“‘*’ not meaningful for factors”Warning message in Ops.factor(left, right):\n“‘*’ not meaningful for factors”Warning message in Ops.factor(left, right):\n“‘+’ not meaningful for factors”Warning message in Ops.factor(left, right):\n“‘+’ not meaningful for factors”Warning message in Ops.factor(left, right):\n“‘+’ not meaningful for factors”Warning message in Ops.factor(left, right):\n“‘+’ not meaningful for factors”Warning message in Ops.factor(left, right):\n“‘+’ not meaningful for factors”Warning message in Ops.factor(left, right):\n“‘+’ not meaningful for factors”Warning message in Ops.factor(left, right):\n“‘+’ not meaningful for factors”Warning message in Ops.factor(left, right):\n“‘+’ not meaningful for factors”Warning message in Ops.factor(left, right):\n“‘+’ not meaningful for factors”Warning message in Ops.factor(left, right):\n“‘+’ not meaningful for factors”Warning message in Ops.factor(left, right):\n“‘+’ not meaningful for factors”Warning message in Ops.factor(left, right):\n“‘+’ not meaningful for factors”Warning message in Ops.factor(left, right):\n“‘+’ not meaningful for factors”Warning message in Ops.factor(left, right):\n“‘+’ not meaningful for factors”Warning message in Ops.factor(left, right):\n“‘+’ not meaningful for factors”Warning message in Ops.factor(left, right):\n“‘+’ not meaningful for factors”Warning message in Ops.factor(left, right):\n“‘+’ not meaningful for factors”Warning message in Ops.factor(left, right):\n“‘+’ not meaningful for factors”Warning message in Ops.factor(left, right):\n“‘+’ not meaningful for factors”Warning message in Ops.factor(left, right):\n“‘+’ not meaningful for factors”",
          "name": "stderr"
        },
        {
          "output_type": "display_data",
          "data": {
            "text/plain": "  ID Users Memory CPU Carts.Replicas X.1 basket getCatalogue getItem getCart\n1 1  2     4      1   1              NA  NA     NA           NA      NA     \n  ... viewOrdersPage cataloguePage getRelated addToCart catalogueSize\n1 ... NA             NA            NA         NA        NA           \n  getAddress getCard showDetails Metric X80..CPU.Percentile\n1 NA         NA      NA          NA     NA                 ",
            "text/latex": "\\begin{tabular}{r|llllllllllllllllllllllllll}\n ID & Users & Memory & CPU & Carts.Replicas & X.1 & basket & getCatalogue & getItem & getCart & ... & viewOrdersPage & cataloguePage & getRelated & addToCart & catalogueSize & getAddress & getCard & showDetails & Metric & X80..CPU.Percentile\\\\\n\\hline\n\t 1   & 2   & 4   & 1   & 1   & NA  & NA  & NA  & NA  & NA  & ... & NA  & NA  & NA  & NA  & NA  & NA  & NA  & NA  & NA  & NA \\\\\n\\end{tabular}\n",
            "text/markdown": "\nID | Users | Memory | CPU | Carts.Replicas | X.1 | basket | getCatalogue | getItem | getCart | ... | viewOrdersPage | cataloguePage | getRelated | addToCart | catalogueSize | getAddress | getCard | showDetails | Metric | X80..CPU.Percentile | \n|---|\n| 1   | 2   | 4   | 1   | 1   | NA  | NA  | NA  | NA  | NA  | ... | NA  | NA  | NA  | NA  | NA  | NA  | NA  | NA  | NA  | NA  | \n\n\n",
            "text/html": "<table>\n<thead><tr><th scope=col>ID</th><th scope=col>Users</th><th scope=col>Memory</th><th scope=col>CPU</th><th scope=col>Carts.Replicas</th><th scope=col>X.1</th><th scope=col>basket</th><th scope=col>getCatalogue</th><th scope=col>getItem</th><th scope=col>getCart</th><th scope=col>...</th><th scope=col>viewOrdersPage</th><th scope=col>cataloguePage</th><th scope=col>getRelated</th><th scope=col>addToCart</th><th scope=col>catalogueSize</th><th scope=col>getAddress</th><th scope=col>getCard</th><th scope=col>showDetails</th><th scope=col>Metric</th><th scope=col>X80..CPU.Percentile</th></tr></thead>\n<tbody>\n\t<tr><td>1  </td><td>2  </td><td>4  </td><td>1  </td><td>1  </td><td>NA </td><td>NA </td><td>NA </td><td>NA </td><td>NA </td><td>...</td><td>NA </td><td>NA </td><td>NA </td><td>NA </td><td>NA </td><td>NA </td><td>NA </td><td>NA </td><td>NA </td><td>NA </td></tr>\n</tbody>\n</table>\n"
          },
          "metadata": {}
        }
      ]
    },
    {
      "metadata": {},
      "cell_type": "markdown",
      "source": "Process time data in seconds per workload situation \\lambda"
    },
    {
      "metadata": {
        "trusted": true
      },
      "cell_type": "code",
      "source": "avgVector<-as.data.frame(matrix(nrow=nrow(mySettings)-1, ncol=ncol(dataFile)-1))\nfor(i in 1:(nrow(mySettings)-1)){\n\tavgVector[i,]<-data.frame(c(mySettings[i+1,],dataFile[1+3*i,7:(6+noMicroServices)]))\n}\ncolnames(avgVectorB)<-c(colnames(dataFile[-6]))\nSDVector<-as.data.frame(matrix(nrow=nrow(mySettings)-1, ncol=ncol(dataFile)-1))\nfor(i in 1:(nrow(mySettings)-1)){\n\tSDVector[i,]<-data.frame(c(mySettings[i+1,],dataFile[2+3*i,7:(6+noMicroServices)]))\n}\ncolnames(SDVectorB)<-c(colnames(dataFile[-6]))\n\nmixTemp<-as.data.frame(matrix(nrow=nrow(mySettings)-1, ncol=ncol(dataFile)-1))\nfor(i in 1:(nrow(mySettings)-1)){\n\tmixTemp[i,]<-data.frame(c(mySettings[i+1,],dataFile[3+3*i,7:(6+noMicroServices)]))\n}\ncolnames(mixTemp)<-c(colnames(dataFile[-6]))\n#print(mySettings)",
      "execution_count": 6,
      "outputs": []
    },
    {
      "metadata": {},
      "cell_type": "markdown",
      "source": "Check pass criterion and compute relativeMass"
    },
    {
      "metadata": {
        "trusted": true
      },
      "cell_type": "code",
      "source": "passCriteria<-as.data.frame(matrix(nrow=nrow(mySettings)-1, ncol=ncol(dataFile)-1))\nfor(i in 1:(nrow(mySettings)-1)){\n\tpassCriteria[i,]<-data.frame(c(mySettings[i+1,],avgVector[i,6:(5+noMicroServices)]))\n}\nrelativeMass<-c()\ncolnames(passCriteria)<-c(colnames(dataFile[-6]))\nmix<-as.data.frame(matrix(nrow=nrow(mySettings)-1, ncol=ncol(dataFile)-1))\nfor(j in 1:nrow(passCriteria)){\n\tmix[j,]<-mixTemp[j,]\n\tfor(i in 6:(5+noMicroServices)){\n\t\tif(passCriteria[j,i]>threshold[i]) \n\t\t\tmix[j,i]<-0\n\t}\n\trelativeMass[j]<-sum(mix[j,6:(5+noMicroServices)])\n}",
      "execution_count": 7,
      "outputs": [
        {
          "output_type": "error",
          "ename": "ERROR",
          "evalue": "Error in if (passCriteria[j, i] > threshold[i]) mix[j, i] <- 0: missing value where TRUE/FALSE needed\n",
          "traceback": [
            "Error in if (passCriteria[j, i] > threshold[i]) mix[j, i] <- 0: missing value where TRUE/FALSE needed\nTraceback:\n"
          ]
        }
      ]
    },
    {
      "metadata": {},
      "cell_type": "markdown",
      "source": "Define a matrix of state frequencies every fifty user"
    },
    {
      "metadata": {
        "trusted": true
      },
      "cell_type": "code",
      "source": "aggregatedValues<-matrix(c(usersLoadScaled[byFifty], binProb), ncol=2,nrow=6, dimnames=list(c(1,2,3,4,5,6), c(\"Users\", \"Aggregated Mass\")))",
      "execution_count": null,
      "outputs": []
    },
    {
      "metadata": {},
      "cell_type": "markdown",
      "source": "Compute absoluteRelativeMass"
    },
    {
      "metadata": {
        "trusted": true
      },
      "cell_type": "code",
      "source": "finalSettings<-mySettings\nrelativeMass<-c(0, relativeMass)\nfinalSettings$relativeMass<-relativeMass\nabsoluteRelativeMass<-c()\nfor(j in 1:nrow(finalSettings)){\t\n\tabsoluteRelativeMass[j]<-finalSettings[j,\"relativeMass\"]*aggregatedValues[match(finalSettings[j,\"Users\"], aggregatedValues[,1]),2]\n}\nabsoluteRelativeMass[1]<-0\nfinalSettings$absoluteRelativeMass<-absoluteRelativeMass",
      "execution_count": null,
      "outputs": []
    },
    {
      "metadata": {},
      "cell_type": "markdown",
      "source": "Create the datasets for each plot and plot the datasets as in Fig. 3, a)"
    },
    {
      "metadata": {
        "trusted": true
      },
      "cell_type": "code",
      "source": "mySettingsUnique<-unique(mySettings[3:5])\nset<-list()\nordSet<-list()\nfor(i in 1:nrow(mySettingsUnique)){\n\tset[[i]]<-finalSettings[which(finalSettings[,3] == mySettingsUnique[i,1]&finalSettings[,4] == mySettingsUnique[i,2]&finalSettings[,5] == mySettingsUnique[i,3]),]\n    ordSet[[i]]<-set[[i]][,c(2,7)][order(set[[i]][,c(2,7)][,1]),]\n}\n\n#if(match(mySettingsUnique[2,1],finalSettings[,3])& match(mySettingsUnique[2,2],finalSettings[,4])& match(mySettingsUnique[2,3],finalSettings[,5])){\n#\tmatch(mySettingsUnique[3,],finalSettings[,3])\n#}\n#print(mySettingsUnique)\n#print(finalSettings)",
      "execution_count": null,
      "outputs": []
    },
    {
      "metadata": {},
      "cell_type": "markdown",
      "source": "Plot curves"
    },
    {
      "metadata": {
        "trusted": true
      },
      "cell_type": "code",
      "source": "plot(aggregatedValues, xlim=c(50, 300), ylim=c(0, 0.3))\npolygon(c(50,aggregatedValues[,1],300),c(0,aggregatedValues[,2],0), col=\"lightblue\", lty = 2, lwd = 2, border = \"blue\")\nfor(i in 1:nrow(mySettingsUnique)){\n    lines(ordSet[[i]], type=\"l\", col=\"blue\")\t\n    polygon(c(50,t(ordSet[[i]][1]),300),c(0,t(ordSet[[i]][2]),0) , col=rgb(.5,.4,.1,.30), lty = 2, lwd = 2, border = \"black\")\n}\n#graphics.off()",
      "execution_count": null,
      "outputs": []
    },
    {
      "metadata": {
        "trusted": true
      },
      "cell_type": "code",
      "source": "",
      "execution_count": null,
      "outputs": []
    }
  ],
  "metadata": {
    "kernelspec": {
      "name": "r",
      "display_name": "R",
      "language": "R"
    },
    "language_info": {
      "mimetype": "text/x-r-source",
      "name": "R",
      "pygments_lexer": "r",
      "version": "3.4.1",
      "file_extension": ".r",
      "codemirror_mode": "r"
    }
  },
  "nbformat": 4,
  "nbformat_minor": 2
}