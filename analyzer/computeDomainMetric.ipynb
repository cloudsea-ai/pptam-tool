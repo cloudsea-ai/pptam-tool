{
  "cells": [
    {
      "metadata": {
        "trusted": true
      },
      "cell_type": "code",
      "source": "##INPUT description\n\n#It requires the output file of Benchlow (\"dataFile\") and the output file of the APM tools (\"operationalProfile\")\n\n#dataFile has the following entry layout where \"createOrder\" is a microservice. \n#ID\tUsers\tMemory\tCPU\tCartReplicas\tMetric\tcreateOrder\n#Metric has three possible string values \"Avg (sec)\", \"SD (sec)\" and \"Mix % (take failure into account)\" \n\n#operationalProfile has the following entry layout\"\n#State - number of concurrent users, Frequency ",
      "execution_count": 1,
      "outputs": []
    },
    {
      "metadata": {
        "trusted": true
      },
      "cell_type": "code",
      "source": "##SETTINGS\n\n#Pre-requisites\ninstall.packages(\"RColorBrewer\")\nlibrary(\"RColorBrewer\")\n# Options\nmax.num.users <- 600\n#Preprocessing\ndataFile<-read.csv(\"BenchflowOutput.csv\", header= TRUE,sep=\",\")\noperationalProfile<-read.csv(\"OperationalProfileData.csv\", header= TRUE,sep=\",\")\nusersLoad<-operationalProfile[,1]\naccessCount<-operationalProfile[,2]\nmax.requests <- max(usersLoad)\nscaleFactor<-max.num.users/max.requests\nscaledUsersLoad<-floor(scaleFactor*usersLoad)\nprint(scaledUsersLoad)\n#Identify selected configurations from dataFile\nmySettings <-unique(dataFile[,1:5])\n#print(mySettings)\n\n##END SETTINGS\n",
      "execution_count": 2,
      "outputs": [
        {
          "output_type": "stream",
          "text": "Installing package into ‘/home/nbuser/R’\n(as ‘lib’ is unspecified)\n",
          "name": "stderr"
        },
        {
          "output_type": "stream",
          "text": " [1]  75  80  85  90  95 100 125 130 135 140 150 155 160 165 170 175 180 185 190\n[20] 195 200 205 210 215 225 250 275 285 300 325 350 375 400 425 450 475 500 525\n[39] 550 575 600\n",
          "name": "stdout"
        }
      ]
    },
    {
      "metadata": {
        "trusted": true
      },
      "cell_type": "code",
      "source": "##Create aggregate values (by fifty) of the user frequency from \"operationalProfile\" ",
      "execution_count": 3,
      "outputs": []
    },
    {
      "metadata": {
        "trusted": true
      },
      "cell_type": "code",
      "source": "accessFrequency<-accessCount/sum(accessCount)\nbyFifty<-which(scaledUsersLoad %% 50 == 0)\nprint(byFifty)\nbinProb<-c()\nfor(i in 1:length(byFifty)){\n\tif(i==1){\n\t\tbinProb[i]<-sum(accessFrequency[1:byFifty[i]])\n\t}else{\n\t\tbinProb[i]<-sum(accessFrequency[(byFifty[i-1]+1):byFifty[i]])\n\t}\n}\naggregatedValues<-matrix(c(scaledUsersLoad[byFifty], binProb), ncol=2,nrow=6, dimnames=list(c(1,2,3,4,5,6), c(\"Workload (number of users)\", \"Domain metric per workload\")))\nprint(scaledUsersLoad[byFifty])",
      "execution_count": 4,
      "outputs": [
        {
          "output_type": "stream",
          "text": " [1]  6 11 21 26 29 31 33 35 37 39 41\n",
          "name": "stdout"
        },
        {
          "output_type": "stream",
          "text": "Warning message in matrix(c(scaledUsersLoad[byFifty], binProb), ncol = 2, nrow = 6, :\n“data length [22] is not a sub-multiple or multiple of the number of rows [6]”",
          "name": "stderr"
        },
        {
          "output_type": "stream",
          "text": " [1] 100 150 200 250 300 350 400 450 500 550 600\n",
          "name": "stdout"
        }
      ]
    },
    {
      "metadata": {
        "trusted": true
      },
      "cell_type": "code",
      "source": "#Define the threshold for each service. The threshold is a vector computed as avg+3*SD for the configuration with Users=2, Memory=4, CPU=1, CartReplica=1   ",
      "execution_count": 5,
      "outputs": []
    },
    {
      "metadata": {
        "trusted": true
      },
      "cell_type": "code",
      "source": "noMicroServices<-ncol(dataFile)-6\ntempBench<-dataFile[dataFile$Users==2,]\nbenchSettings<-mySettings[mySettings$Users==2,]\navgVectorB<-tempBench[tempBench$Metric==\"Avg (sec)\",][,-c(1:6)]\nSDVectorB<- tempBench[tempBench$Metric==\"SD (sec)\",][,-c(1:6)]\nmixB<-tempBench[tempBench$Metric==\"Mix % (take failure into account)\",][,-c(1:6)]\nthreshold<-data.frame(benchSettings,avgVectorB+3*SDVectorB)\n",
      "execution_count": 6,
      "outputs": []
    },
    {
      "metadata": {
        "trusted": true
      },
      "cell_type": "code",
      "source": "#Exclude case with user = 2 from dataFile and check whether each service pass or fail: avg<threshol (Pass). Compute the relative mass for each configuration",
      "execution_count": 7,
      "outputs": []
    },
    {
      "metadata": {
        "trusted": true
      },
      "cell_type": "code",
      "source": "#Select relevant rows\nusedSettings<-mySettings[!mySettings$Users==2,]\nusedDataFile<-dataFile[!dataFile$Users==2,]\navg<-usedDataFile[usedDataFile$Metric==\"Avg (sec)\",-6]\nSD<-usedDataFile[usedDataFile$Metric==\"SD (sec)\",-6]\nmixTemp<-usedDataFile[usedDataFile$Metric==\"Mix % (take failure into account)\",-6]\n\n#Check pass/fail for each service. the \"mix\" value is 0 if fail and mixTemp if pass. Compute the relative mass for each configuration\npassCriteria<-avg\nrelativeMass<-c()\n#colnames(passCriteria)<-c(colnames(dataFile[-6]))\nmix<-as.data.frame(matrix(nrow=nrow(usedSettings), ncol=ncol(usedDataFile)-1))\nfor(j in 1:nrow(passCriteria)){\n\tmix[j,]<-mixTemp[j,]\n\tfor(i in 6:(5+noMicroServices)){\n\t\tif(passCriteria[j,i]>threshold[i]){mix[j,i]<-0}\n\t}\n\trelativeMass[j]<-sum(mix[j,6:(5+noMicroServices)])\n}",
      "execution_count": 8,
      "outputs": []
    },
    {
      "metadata": {
        "trusted": true
      },
      "cell_type": "code",
      "source": "#Compute the domain metric for each configuration",
      "execution_count": 9,
      "outputs": []
    },
    {
      "metadata": {
        "trusted": true
      },
      "cell_type": "code",
      "source": "tempData<-usedSettings\ntempData$relativeMass<-relativeMass\nabsoluteMass<-c()\nfor(j in 1:nrow(tempData)){\t\n\tabsoluteMass[j]<-tempData[j,\"relativeMass\"]*aggregatedValues[match(tempData[j,\"Users\"], aggregatedValues[,1]),2]\n}\n#head(finalSettings)\ntempData$absoluteMass<-absoluteMass\n\nmySettingsUnique<-unique(tempData[3:5])\nset<-list()\ndomainMetricList<-list()\nfor(i in 1:nrow(mySettingsUnique)){\n\tset[[i]]<-tempData[which(tempData[,3] == mySettingsUnique[i,1]&tempData[,4] == mySettingsUnique[i,2]&tempData[,5] == mySettingsUnique[i,3]),]\n    domainMetricList[[i]]<-set[[i]][,c(2,7)][order(set[[i]][,c(2,7)][,1]),]\n}",
      "execution_count": 10,
      "outputs": []
    },
    {
      "metadata": {
        "trusted": true
      },
      "cell_type": "code",
      "source": "#Plot operationalProfile against domain metric for each configuration",
      "execution_count": 11,
      "outputs": []
    },
    {
      "metadata": {
        "trusted": true
      },
      "cell_type": "code",
      "source": "graphics.off()\njpeg(filename=\"Polygons.jpeg\", width = 480, height = 480, units = \"px\", pointsize = 12,\n     quality = 75,\n     bg = \"white\", res = NA)\nplot(aggregatedValues, xlim=c(50, 300), ylim=c(0, 0.3),cex.lab=1.3)\npolygon(c(50,aggregatedValues[,1],300),c(0,aggregatedValues[,2],0), col=\"brown\", lty = 1, lwd = 2, border = \"black\")\ncolor=heat.colors(11)\ncolor_transparent <- adjustcolor(color, alpha.f = 0.2) \n\nfor(i in 1:nrow(mySettingsUnique)){\n    lines(domainMetricList[[i]], type=\"l\", col=heat.colors(11)[i])\n    polygon(c(50,t(domainMetricList[[i]][1]),300),c(0,t(domainMetricList[[i]][2]),0), col=color_transparent[i], lty = 1, lwd = 1 , border = rainbow(11)[i])\n}\ntext(aggregatedValues,labels = round(aggregatedValues[1:6,2],3), pos=3, col=\"black\")\ngraphics.off()",
      "execution_count": 13,
      "outputs": []
    },
    {
      "metadata": {
        "trusted": true
      },
      "cell_type": "code",
      "source": "#Compute Domain metric: summing up absoluteMass over users for each configuration",
      "execution_count": 14,
      "outputs": []
    },
    {
      "metadata": {
        "trusted": true
      },
      "cell_type": "code",
      "source": "mySettingsUnique$domainMetric<-0\nfor(i in 1:nrow(mySettingsUnique)){\nmySettingsUnique[i,4]<-round(sum(tempData[which(tempData[,3] == mySettingsUnique[i,1]&tempData[,4] == mySettingsUnique[i,2]&tempData[,5] == mySettingsUnique[i,3]),\"absoluteMass\"]),4)\n}\ndomainMetric<-mySettingsUnique\n#Create the Table of the domain metric\nlibrary(ggplot2)\nlibrary(gridExtra)\npdf(\"Table.pdf\", height=5, width=5)\n\n#svg(\"Mirai/table.svg\",width = 7, height = 7, pointsize = 12, onefile = FALSE, family = \"sans\", bg = \"white\",antialias = c(\"default\", \"none\", \"gray\", \"subpixel\"))\np<-tableGrob(domainMetric[order(domainMetric[,1],domainMetric[,2],domainMetric[,3]),], rows=NULL)\ngrid.arrange(p)\ndev.off()",
      "execution_count": 17,
      "outputs": [
        {
          "output_type": "display_data",
          "data": {
            "text/plain": "png \n  2 ",
            "text/latex": "\\textbf{png:} 2",
            "text/markdown": "**png:** 2",
            "text/html": "<strong>png:</strong> 2"
          },
          "metadata": {}
        }
      ]
    },
    {
      "metadata": {
        "trusted": true
      },
      "cell_type": "code",
      "source": "",
      "execution_count": null,
      "outputs": []
    }
  ],
  "metadata": {
    "kernelspec": {
      "name": "r",
      "display_name": "R",
      "language": "R"
    },
    "language_info": {
      "mimetype": "text/x-r-source",
      "name": "R",
      "pygments_lexer": "r",
      "version": "3.4.1",
      "file_extension": ".r",
      "codemirror_mode": "r"
    }
  },
  "nbformat": 4,
  "nbformat_minor": 2
}